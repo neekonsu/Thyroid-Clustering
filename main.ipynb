{
  "nbformat": 4,
  "nbformat_minor": 0,
  "metadata": {
    "colab": {
      "name": "Untitled0.ipynb",
      "version": "0.3.2",
      "provenance": [],
      "collapsed_sections": [],
      "include_colab_link": true
    },
    "kernelspec": {
      "name": "python3",
      "display_name": "Python 3"
    }
  },
  "cells": [
    {
      "cell_type": "markdown",
      "metadata": {
        "id": "view-in-github",
        "colab_type": "text"
      },
      "source": [
        "<a href=\"https://colab.research.google.com/github/neekonsu/Thyroid-Clustering/blob/master/main.ipynb\" target=\"_parent\"><img src=\"https://colab.research.google.com/assets/colab-badge.svg\" alt=\"Open In Colab\"/></a>"
      ]
    },
    {
      "cell_type": "code",
      "metadata": {
        "id": "pEIrSQ-iHuzV",
        "colab_type": "code",
        "outputId": "728d4069-32c2-4866-d7e7-11c60119aa1f",
        "colab": {
          "base_uri": "https://localhost:8080/",
          "height": 343
        }
      },
      "source": [
        "!pip install cmapPy\n",
        "# Importing the Keras libraries and packages\n",
        "from keras.models import Sequential\n",
        "from keras.layers import Conv2D\n",
        "from keras.layers import MaxPooling2D\n",
        "from keras.layers import Flatten\n",
        "from keras.layers import Dense\n",
        "from sklearn import preprocessing\n",
        "import gzip\n",
        "import shutil\n",
        "import gc\n",
        "# for csv dataframe use pandas\n",
        "import pandas as pd\n",
        "# from eqgen_exp\n",
        "import matplotlib.pyplot as plt\n",
        "# for floor function\n",
        "import math\n",
        "# for image processing, we import openCV\n",
        "import cv2\n",
        "# for interfacing with filesystem\n",
        "import os\n",
        "# for using randomness\n",
        "import random\n",
        "# for listing progress bars where we need them\n",
        "from tqdm import tqdm\n",
        "# for converting png to jpg\n",
        "from PIL import Image\n",
        "# for building recursive file array\n",
        "from glob import glob \n",
        "import numpy as np\n",
        "import cmapPy as gt\n",
        "# FORMAT MATPLOTLIB\n",
        "%matplotlib inline\n",
        "gc.collect()"
      ],
      "execution_count": 1,
      "outputs": [
        {
          "output_type": "stream",
          "text": [
            "Collecting cmapPy\n",
            "\u001b[?25l  Downloading https://files.pythonhosted.org/packages/e8/e1/9e90b0dc2051f4a3a2b9553b254889e93a2a3c7a3b925433c6298d99d596/cmapPy-4.0.1-py2.py3-none-any.whl (150kB)\n",
            "\u001b[K     |████████████████████████████████| 153kB 4.8MB/s \n",
            "\u001b[?25hRequirement already satisfied: requests>=2.13.0 in /usr/local/lib/python3.6/dist-packages (from cmapPy) (2.21.0)\n",
            "Requirement already satisfied: h5py>=2.6.0 in /usr/local/lib/python3.6/dist-packages (from cmapPy) (2.8.0)\n",
            "Requirement already satisfied: six in /usr/local/lib/python3.6/dist-packages (from cmapPy) (1.12.0)\n",
            "Requirement already satisfied: pandas>=0.18 in /usr/local/lib/python3.6/dist-packages (from cmapPy) (0.24.2)\n",
            "Requirement already satisfied: numpy>=1.11.2 in /usr/local/lib/python3.6/dist-packages (from cmapPy) (1.16.4)\n",
            "Requirement already satisfied: chardet<3.1.0,>=3.0.2 in /usr/local/lib/python3.6/dist-packages (from requests>=2.13.0->cmapPy) (3.0.4)\n",
            "Requirement already satisfied: urllib3<1.25,>=1.21.1 in /usr/local/lib/python3.6/dist-packages (from requests>=2.13.0->cmapPy) (1.24.3)\n",
            "Requirement already satisfied: idna<2.9,>=2.5 in /usr/local/lib/python3.6/dist-packages (from requests>=2.13.0->cmapPy) (2.8)\n",
            "Requirement already satisfied: certifi>=2017.4.17 in /usr/local/lib/python3.6/dist-packages (from requests>=2.13.0->cmapPy) (2019.3.9)\n",
            "Requirement already satisfied: pytz>=2011k in /usr/local/lib/python3.6/dist-packages (from pandas>=0.18->cmapPy) (2018.9)\n",
            "Requirement already satisfied: python-dateutil>=2.5.0 in /usr/local/lib/python3.6/dist-packages (from pandas>=0.18->cmapPy) (2.5.3)\n",
            "Installing collected packages: cmapPy\n",
            "Successfully installed cmapPy-4.0.1\n"
          ],
          "name": "stdout"
        },
        {
          "output_type": "stream",
          "text": [
            "Using TensorFlow backend.\n"
          ],
          "name": "stderr"
        },
        {
          "output_type": "execute_result",
          "data": {
            "text/plain": [
              "8"
            ]
          },
          "metadata": {
            "tags": []
          },
          "execution_count": 1
        }
      ]
    },
    {
      "cell_type": "code",
      "metadata": {
        "id": "X4oCJOvfICif",
        "colab_type": "code",
        "outputId": "380a094c-2813-458a-9fbf-2b27a74718ac",
        "colab": {
          "base_uri": "https://localhost:8080/",
          "height": 343
        }
      },
      "source": [
        "try:\n",
        "  assert os.listdir('/content/Thyroid-Clustering')\n",
        "except:\n",
        "  !git clone \"https://github.com/neekonsu/Thyroid-Clustering\"\n",
        "  !wget \"https://storage.googleapis.com/gtex_analysis_v7/rna_seq_data/GTEx_Analysis_2016-01-15_v7_RNASeQCv1.1.8_gene_tpm.gct.gz\"\n",
        "gc.collect()"
      ],
      "execution_count": 2,
      "outputs": [
        {
          "output_type": "stream",
          "text": [
            "Cloning into 'Thyroid-Clustering'...\n",
            "remote: Enumerating objects: 3, done.\u001b[K\n",
            "remote: Counting objects: 100% (3/3), done.\u001b[K\n",
            "remote: Compressing objects: 100% (3/3), done.\u001b[K\n",
            "remote: Total 3 (delta 0), reused 3 (delta 0), pack-reused 0\n",
            "Unpacking objects: 100% (3/3), done.\n",
            "--2019-06-11 17:33:01--  https://storage.googleapis.com/gtex_analysis_v7/rna_seq_data/GTEx_Analysis_2016-01-15_v7_RNASeQCv1.1.8_gene_tpm.gct.gz\n",
            "Resolving storage.googleapis.com (storage.googleapis.com)... 74.125.195.128, 2607:f8b0:400e:c08::80\n",
            "Connecting to storage.googleapis.com (storage.googleapis.com)|74.125.195.128|:443... connected.\n",
            "HTTP request sent, awaiting response... 200 OK\n",
            "Length: 867038648 (827M) [application/gzip]\n",
            "Saving to: ‘GTEx_Analysis_2016-01-15_v7_RNASeQCv1.1.8_gene_tpm.gct.gz’\n",
            "\n",
            "GTEx_Analysis_2016- 100%[===================>] 826.87M   120MB/s    in 7.3s    \n",
            "\n",
            "2019-06-11 17:33:08 (113 MB/s) - ‘GTEx_Analysis_2016-01-15_v7_RNASeQCv1.1.8_gene_tpm.gct.gz’ saved [867038648/867038648]\n",
            "\n"
          ],
          "name": "stdout"
        },
        {
          "output_type": "execute_result",
          "data": {
            "text/plain": [
              "60"
            ]
          },
          "metadata": {
            "tags": []
          },
          "execution_count": 2
        }
      ]
    },
    {
      "cell_type": "code",
      "metadata": {
        "id": "Ots641-ZzSuv",
        "colab_type": "code",
        "outputId": "eded07b9-cf31-4dea-b0be-b43efd40eec7",
        "colab": {
          "base_uri": "https://localhost:8080/",
          "height": 34
        }
      },
      "source": [
        "with gzip.open('/content/GTEx_Analysis_2016-01-15_v7_RNASeQCv1.1.8_gene_tpm.gct.gz', 'rb') as f_in:\n",
        "    with open('/content/GTEx_Analysis_2016-01-15_v7_RNASeQCv1.1.8_gene_tpm.gct', 'wb') as f_out:\n",
        "        shutil.copyfileobj(f_in, f_out)\n",
        "gc.collect()\n",
        "!rm \"/content/GTEx_Analysis_2016-01-15_v7_RNASeQCv1.1.8_gene_tpm.gct.gz\"\n",
        "!rm -r \"/content/Thyroid-Clustering\"\n",
        "gc.collect()"
      ],
      "execution_count": 3,
      "outputs": [
        {
          "output_type": "execute_result",
          "data": {
            "text/plain": [
              "0"
            ]
          },
          "metadata": {
            "tags": []
          },
          "execution_count": 3
        }
      ]
    },
    {
      "cell_type": "code",
      "metadata": {
        "id": "kWM5wDEH3Opy",
        "colab_type": "code",
        "colab": {}
      },
      "source": [
        "# with open(\"/content/GTEx_Analysis_2016-01-15_v7_RNASeQCv1.1.8_gene_tpm.gct\", 'r') as fin:\n",
        "#     d = fin.read().splitlines(True)\n",
        "# with open(\"/content/GTEx_Analysis_2016-01-15_v7_RNASeQCv1.1.8_gene_tpm.gct\", 'w') as fout:\n",
        "#     fout.writelines(d[2:])\n",
        "!tail -n +2 \"/content/GTEx_Analysis_2016-01-15_v7_RNASeQCv1.1.8_gene_tpm.gct\" > \"/content/GTEx_Analysis_2016-01-15_v7_RNASeQCv1.1.8_gene_tpm.gct.tmp\" && mv \"/content/GTEx_Analysis_2016-01-15_v7_RNASeQCv1.1.8_gene_tpm.gct.tmp\" \"/content/GTEx_Analysis_2016-01-15_v7_RNASeQCv1.1.8_gene_tpm.gct\""
      ],
      "execution_count": 0,
      "outputs": []
    },
    {
      "cell_type": "code",
      "metadata": {
        "id": "x_CoHZmzWcqp",
        "colab_type": "code",
        "colab": {}
      },
      "source": [
        "gc.collect()\n",
        "fields=[]\n",
        "data = pd.read_csv('/content/GTEx_Analysis_2016-01-15_v7_RNASeQCv1.1.8_gene_tpm.gct', sep='\\t', usecols=fields)\n",
        "# Preview the first 5 lines of the loaded data \n",
        "data.head()"
      ],
      "execution_count": 0,
      "outputs": []
    },
    {
      "cell_type": "code",
      "metadata": {
        "id": "r7C1jBP1XVEB",
        "colab_type": "code",
        "colab": {}
      },
      "source": [
        "data.tail()"
      ],
      "execution_count": 0,
      "outputs": []
    },
    {
      "cell_type": "code",
      "metadata": {
        "id": "mdqvytX-YPLD",
        "colab_type": "code",
        "colab": {}
      },
      "source": [
        "data.shape"
      ],
      "execution_count": 0,
      "outputs": []
    },
    {
      "cell_type": "code",
      "metadata": {
        "id": "Z1lL-5AIYh6f",
        "colab_type": "code",
        "colab": {}
      },
      "source": [
        "data = data.drop(labels=[\n",
        "    \"SAMPID\",\n",
        "    \"SMPTHNTS\",\n",
        "    \"SMCENTER\",\n",
        "    \"SMTS\",\n",
        "    \"SMTSD\",\n",
        "    \"SMNABTCH\",\n",
        "    \"SMNABTCHT\",\n",
        "    \"SMNABTCHD\",\n",
        "    \"SMGEBTCH\",\n",
        "    \"SMGEBTCHD\",\n",
        "    \"SMGEBTCHT\",\n",
        "    \"SMAFRZE\",\n",
        "    \"SMGTC\",\n",
        "    \"SMCHMPRS\",\n",
        "    \"SMNUMGPS\",\n",
        "    \"SM550NRM\",\n",
        "    \"SMUNMPRT\",\n",
        "    \"SM350NRM\",\n",
        "    \"SMRDLGTH\",\n",
        "    \"SMMNCPB\",\n",
        "    \"SMESTLBS\",\n",
        "    \"SMMNCV\",\n",
        "    \"SMCGLGTH\",\n",
        "    \"SMGAPPCT\",\n",
        "    \"SMUNPDRD\",\n",
        "    \"SMNUM5CD\",\n",
        "    \"SMDPMPRT\"], \n",
        "          axis=1)"
      ],
      "execution_count": 0,
      "outputs": []
    },
    {
      "cell_type": "code",
      "metadata": {
        "id": "JXgnhwQVdvYl",
        "colab_type": "code",
        "colab": {}
      },
      "source": [
        "data = pd.concat([data,pd.get_dummies(data[\"SMATSSCR\"],prefix=[\"SMATSSCR\"], drop_first=True)],axis=1)\n",
        "data = pd.concat([data,pd.get_dummies(data[\"SMUBRID\"],prefix=[\"SMUBRID\"], drop_first=True)],axis=1)\n",
        "data.drop([\"SMATSSCR\"],axis=1, inplace=True)\n",
        "data.drop([\"SMUBRID\"],axis=1, inplace=True)\n",
        "data.head()"
      ],
      "execution_count": 0,
      "outputs": []
    },
    {
      "cell_type": "code",
      "metadata": {
        "id": "3m4tKFehZZZ5",
        "colab_type": "code",
        "colab": {}
      },
      "source": [
        "# Get column names first\n",
        "names = data.columns\n",
        "# Create the Scaler object\n",
        "scaler = preprocessing.StandardScaler()\n",
        "# Fit your data on the scaler object\n",
        "scaled_df = scaler.fit_transform(data)\n",
        "data = pd.DataFrame(scaled_df, columns=names)\n",
        "\n",
        "data.head()"
      ],
      "execution_count": 0,
      "outputs": []
    },
    {
      "cell_type": "code",
      "metadata": {
        "id": "9NEc3LMmi87o",
        "colab_type": "code",
        "colab": {}
      },
      "source": [
        ""
      ],
      "execution_count": 0,
      "outputs": []
    }
  ]
}